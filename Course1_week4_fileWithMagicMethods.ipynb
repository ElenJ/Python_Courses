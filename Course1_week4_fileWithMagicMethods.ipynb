{
 "cells": [
  {
   "cell_type": "markdown",
   "metadata": {},
   "source": [
    "В этом задании вам нужно создать интерфейс для работы с файлами. Интерфейс должен предоставлять следующие возможности по работе с файлами:\n",
    "\n",
    "- чтение из файла, метод read возвращает строку с текущим содержанием файла\n",
    "\n",
    "- запись в файл, метод write принимает в качестве аргумента строку с новым содержанием файла\n",
    "\n",
    "- сложение объектов типа File, результатом сложения является объект класса File, при этом создается новый файл и файловый объект, в котором содержимое второго файла добавляется к содержимому первого файла. Новый файл должен создаваться в директории, полученной с помощью функции tempfile.gettempdir. Для получения нового пути можно использовать os.path.join.\n",
    "\n",
    "- возвращать в качестве строкового представления объекта класса File полный путь до файла\n",
    "\n",
    "- поддерживать протокол итерации, причем итерация проходит по строкам файла\n",
    "\n",
    "При создании экземпляра класса File в конструктор передается полный путь до файла на файловой системе. Если файла с таким путем не существует, он должен быть создан при инициализации."
   ]
  },
  {
   "cell_type": "markdown",
   "metadata": {},
   "source": [
    "Пример работы\n",
    "import os.path\n",
    " from solution import File\n",
    " path_to_file = 'some_filename'\n",
    " os.path.exists(path_to_file)\n",
    "False\n",
    " file_obj = File(path_to_file)\n",
    " os.path.exists(path_to_file)\n",
    "True\n",
    " file_obj.read()\n",
    "\n",
    " file_obj.write('some text')\n",
    "9\n",
    " file_obj.read()\n",
    "'some text'\n",
    " file_obj.write('other text')\n",
    "10\n",
    " file_obj.read()\n",
    "'other text'\n",
    " file_obj_1 = File(path_to_file + '_1')\n",
    " file_obj_2 = File(path_to_file + '_2')\n",
    " file_obj_1.write('line 1\\n')\n",
    "7\n",
    " file_obj_2.write('line 2\\n')\n",
    "7\n",
    " new_file_obj = file_obj_1 + file_obj_2\n",
    " isinstance(new_file_obj, File)\n",
    "True\n",
    " print(new_file_obj)\n",
    "C:\\Users\\Media\\AppData\\Local\\Temp\\71b9e7b695f64d85a7488f07f2bc051c\n",
    " for line in new_file_obj:\n",
    "....    print(ascii(line))  \n",
    "'line 1\\n'\n",
    "'line 2\\n'\n",
    " import os.path\n",
    " from solution import File\n",
    " path_to_file = 'some_filename'\n",
    " os.path.exists(path_to_file)\n",
    "False\n",
    " file_obj = File(path_to_file)\n",
    " os.path.exists(path_to_file)\n",
    "True\n",
    " file_obj.read()\n",
    "''\n",
    " file_obj.write('some text')\n",
    "9\n",
    " file_obj.read()\n",
    "'some text'\n",
    " file_obj.write('other text')\n",
    "10\n",
    " file_obj.read()\n",
    "'other text'\n",
    " file_obj_1 = File(path_to_file + '_1')\n",
    " file_obj_2 = File(path_to_file + '_2')\n",
    " file_obj_1.write('line 1\\n')\n",
    "7\n",
    " file_obj_2.write('line 2\\n')\n",
    "7\n",
    " new_file_obj = file_obj_1 + file_obj_2\n",
    " isinstance(new_file_obj, File)\n",
    "True\n",
    " print(new_file_obj)\n",
    "C:\\Users\\Media\\AppData\\Local\\Temp\\71b9e7b695f64d85a7488f07f2bc051c\n",
    " for line in new_file_obj:\n",
    "....    print(ascii(line))  \n",
    "'line 1\\n'\n",
    "'line 2\\n'\n"
   ]
  },
  {
   "cell_type": "code",
   "execution_count": 174,
   "metadata": {},
   "outputs": [],
   "source": [
    "import tempfile\n",
    "class File:\n",
    "    \n",
    "    \n",
    "    def __init__(self, filepath):\n",
    "        self.filepath = filepath\n",
    "           \n",
    "        if not os.path.exists(filepath):\n",
    "            f = open(filepath,\"w+\")\n",
    "            f.close()\n",
    "        \n",
    "    def __str__(self):\n",
    "        return self.filepath\n",
    "        \n",
    "    def read (self):\n",
    "        f = open(self.filepath, \"r\")\n",
    "        contents = f.read()\n",
    "        f.close()\n",
    "        return contents\n",
    "    \n",
    "    def write(self,String):\n",
    "        if self.filepath == os.path.join(tempfile.gettempdir(),\"temporary_python3.txt\"):\n",
    "            f = open(self.filepath,\"w\")\n",
    "        else:\n",
    "            f = open(self.filepath,\"a\")\n",
    "        f.write(String)\n",
    "        f.close()\n",
    "        print(\"Writing done\")\n",
    "        \n",
    "    def __getitem__(self, index):\n",
    "        f = open(self.filepath, \"r\")\n",
    "        f_lines = f.readlines()\n",
    "        return f_lines[index]\n",
    "        \n",
    "    def __add__(self, obj):\n",
    "        #f_self = open(self.filepath,\"r\")\n",
    "        #f_obj = open(obj.filepath,\"r\")\n",
    "        new_file =File(os.path.join(tempfile.gettempdir(),\"temporary_python3.txt\"))\n",
    "        content_self = self.read()\n",
    "        content_obj = obj.read()\n",
    "        new_content = content_self + content_obj\n",
    "        new_file.write(new_content)\n",
    "        #f_obj.close()\n",
    "        #f_self.close()\n",
    "        print(\"adding done\") \n",
    "        return new_file"
   ]
  },
  {
   "cell_type": "code",
   "execution_count": 132,
   "metadata": {},
   "outputs": [],
   "source": [
    "#import tempfile\n",
    "#tempfile.gettempdir()"
   ]
  },
  {
   "cell_type": "code",
   "execution_count": 145,
   "metadata": {
    "collapsed": true
   },
   "outputs": [],
   "source": [
    "import os.path"
   ]
  },
  {
   "cell_type": "code",
   "execution_count": 146,
   "metadata": {},
   "outputs": [
    {
     "data": {
      "text/plain": [
       "False"
      ]
     },
     "execution_count": 146,
     "metadata": {},
     "output_type": "execute_result"
    }
   ],
   "source": [
    "path_to_file = 'some_filename'\n",
    "os.path.exists(path_to_file)"
   ]
  },
  {
   "cell_type": "code",
   "execution_count": 175,
   "metadata": {},
   "outputs": [],
   "source": [
    "file_obj = File('/home/elena/PycharmProjects/Courser_DiveIntoPython/test.txt')"
   ]
  },
  {
   "cell_type": "code",
   "execution_count": 167,
   "metadata": {},
   "outputs": [
    {
     "name": "stdout",
     "output_type": "stream",
     "text": [
      "/home/elena/PycharmProjects/Courser_DiveIntoPython/test.txt\n"
     ]
    }
   ],
   "source": [
    "print(file_obj)"
   ]
  },
  {
   "cell_type": "code",
   "execution_count": 168,
   "metadata": {},
   "outputs": [
    {
     "data": {
      "text/plain": [
       "'Some more line3\\nSome more line\\nSome more line2\\nSome more line3\\nSome more line\\n'"
      ]
     },
     "execution_count": 168,
     "metadata": {},
     "output_type": "execute_result"
    }
   ],
   "source": [
    "file_obj.read()"
   ]
  },
  {
   "cell_type": "code",
   "execution_count": 150,
   "metadata": {},
   "outputs": [
    {
     "name": "stdout",
     "output_type": "stream",
     "text": [
      "Writing done\n"
     ]
    }
   ],
   "source": [
    "file_obj.write(\"Some more line\\n\")"
   ]
  },
  {
   "cell_type": "code",
   "execution_count": 176,
   "metadata": {},
   "outputs": [
    {
     "name": "stdout",
     "output_type": "stream",
     "text": [
      "'Some more line3\\n'\n",
      "'Some more line\\n'\n",
      "'Some more line2\\n'\n",
      "'Some more line3\\n'\n",
      "'Some more line\\n'\n",
      "'Some more line2\\n'\n",
      "'Some more line3\\n'\n"
     ]
    }
   ],
   "source": [
    "for line in file_obj:\n",
    "    print(ascii(line))"
   ]
  },
  {
   "cell_type": "code",
   "execution_count": 152,
   "metadata": {},
   "outputs": [
    {
     "data": {
      "text/plain": [
       "'Some more line3\\nSome more line\\nSome more line2\\nSome more line3\\nSome more line\\n'"
      ]
     },
     "execution_count": 152,
     "metadata": {},
     "output_type": "execute_result"
    }
   ],
   "source": [
    "file_obj.read()"
   ]
  },
  {
   "cell_type": "code",
   "execution_count": 170,
   "metadata": {},
   "outputs": [
    {
     "name": "stdout",
     "output_type": "stream",
     "text": [
      "Writing done\n",
      "Writing done\n"
     ]
    },
    {
     "data": {
      "text/plain": [
       "'Some more line3\\nSome more line\\nSome more line2\\nSome more line3\\nSome more line\\nSome more line2\\nSome more line3\\n'"
      ]
     },
     "execution_count": 170,
     "metadata": {},
     "output_type": "execute_result"
    }
   ],
   "source": [
    "file_obj.write(\"Some more line2\\n\")\n",
    "file_obj.write(\"Some more line3\\n\")\n",
    "file_obj.read()"
   ]
  },
  {
   "cell_type": "code",
   "execution_count": 177,
   "metadata": {
    "collapsed": true
   },
   "outputs": [],
   "source": [
    "file_obj2 = File('/home/elena/PycharmProjects/Courser_DiveIntoPython/test2.txt')"
   ]
  },
  {
   "cell_type": "code",
   "execution_count": 178,
   "metadata": {},
   "outputs": [
    {
     "data": {
      "text/plain": [
       "'some textsome textother text'"
      ]
     },
     "execution_count": 178,
     "metadata": {},
     "output_type": "execute_result"
    }
   ],
   "source": [
    "file_obj2.read()"
   ]
  },
  {
   "cell_type": "code",
   "execution_count": 155,
   "metadata": {},
   "outputs": [
    {
     "data": {
      "text/plain": [
       "'some textsome textother text'"
      ]
     },
     "execution_count": 155,
     "metadata": {},
     "output_type": "execute_result"
    }
   ],
   "source": [
    "#file_obj2.write('some text')\n",
    "#file_obj2.read()\n",
    "#file_obj2.write('other text')\n",
    "file_obj2.read()"
   ]
  },
  {
   "cell_type": "code",
   "execution_count": 183,
   "metadata": {},
   "outputs": [
    {
     "name": "stdout",
     "output_type": "stream",
     "text": [
      "Writing done\n",
      "adding done\n"
     ]
    }
   ],
   "source": [
    "new_file_obj = file_obj + file_obj2"
   ]
  },
  {
   "cell_type": "code",
   "execution_count": 184,
   "metadata": {},
   "outputs": [
    {
     "data": {
      "text/plain": [
       "True"
      ]
     },
     "execution_count": 184,
     "metadata": {},
     "output_type": "execute_result"
    }
   ],
   "source": [
    "isinstance(new_file_obj, File)"
   ]
  },
  {
   "cell_type": "code",
   "execution_count": 185,
   "metadata": {},
   "outputs": [
    {
     "name": "stdout",
     "output_type": "stream",
     "text": [
      "/tmp/temporary_python3.txt\n"
     ]
    }
   ],
   "source": [
    "print(new_file_obj)"
   ]
  },
  {
   "cell_type": "code",
   "execution_count": 186,
   "metadata": {},
   "outputs": [
    {
     "name": "stdout",
     "output_type": "stream",
     "text": [
      "Some more line3\n",
      "\n",
      "Some more line\n",
      "\n",
      "Some more line2\n",
      "\n",
      "Some more line3\n",
      "\n",
      "Some more line\n",
      "\n",
      "Some more line2\n",
      "\n",
      "Some more line3\n",
      "\n",
      "some textsome textother text\n"
     ]
    }
   ],
   "source": [
    "for line in new_file_obj:\n",
    "    print(line)"
   ]
  },
  {
   "cell_type": "code",
   "execution_count": null,
   "metadata": {
    "collapsed": true
   },
   "outputs": [],
   "source": []
  },
  {
   "cell_type": "code",
   "execution_count": null,
   "metadata": {
    "collapsed": true
   },
   "outputs": [],
   "source": []
  }
 ],
 "metadata": {
  "kernelspec": {
   "display_name": "Python 3",
   "language": "python",
   "name": "python3"
  },
  "language_info": {
   "codemirror_mode": {
    "name": "ipython",
    "version": 3
   },
   "file_extension": ".py",
   "mimetype": "text/x-python",
   "name": "python",
   "nbconvert_exporter": "python",
   "pygments_lexer": "ipython3",
   "version": "3.6.3"
  }
 },
 "nbformat": 4,
 "nbformat_minor": 2
}
