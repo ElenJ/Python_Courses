{
 "cells": [
  {
   "cell_type": "code",
   "execution_count": 5,
   "metadata": {
    "collapsed": true
   },
   "outputs": [],
   "source": [
    "class CarBase:\n",
    "    def __init__(self, brand, photo_file_name, carrying):\n",
    "        self.brand = brand\n",
    "        self.photo_file_name = photo_file_name\n",
    "        self.carrying = carrying\n",
    "                \n",
    "    def get_photo_file_ext():\n",
    "        pass   \n",
    "\n",
    "\n"
   ]
  },
  {
   "cell_type": "code",
   "execution_count": 7,
   "metadata": {},
   "outputs": [
    {
     "data": {
      "text/plain": [
       "__main__.CarBase"
      ]
     },
     "execution_count": 7,
     "metadata": {},
     "output_type": "execute_result"
    }
   ],
   "source": [
    "myCarBase = CarBase('Toyota', 'fdhgh.jpg', 2)\n",
    "myCarBase.car_type"
   ]
  },
  {
   "cell_type": "code",
   "execution_count": 10,
   "metadata": {
    "collapsed": true
   },
   "outputs": [],
   "source": [
    "class Car(CarBase):\n",
    "    def __init__(self, brand, photo_file_name, carrying, passenger_seats_count):\n",
    "        super().__init__(brand, photo_file_name, carrying)\n",
    "        self.passenger_seats_count = passenger_seats_count\n",
    "        self.car_type = \"car\"\n",
    "\n"
   ]
  },
  {
   "cell_type": "code",
   "execution_count": 11,
   "metadata": {},
   "outputs": [
    {
     "data": {
      "text/plain": [
       "'car'"
      ]
     },
     "execution_count": 11,
     "metadata": {},
     "output_type": "execute_result"
    }
   ],
   "source": [
    "myCar = Car('Toyota', 'fdhgh.jpg', 2,4)\n",
    "myCar.car_type"
   ]
  },
  {
   "cell_type": "code",
   "execution_count": 39,
   "metadata": {},
   "outputs": [],
   "source": [
    "class Truck(CarBase):\n",
    "    def __init__(self, brand, photo_file_name, carrying, body_whl):\n",
    "        super().__init__(brand, photo_file_name, carrying)\n",
    "        carry = carrying.split(\"x\")\n",
    "        if len(carry) == 3:\n",
    "            self.body_length = int(carry[0]) \n",
    "            self.body_width = int(carry[1]) \n",
    "            self.body_height = int(carry[2])\n",
    "        else:\n",
    "            self.body_length = 0 \n",
    "            self.body_width = 0 \n",
    "            self.body_height = 0\n",
    "            \n",
    "        self.car_type = \"truck\"\n",
    "        \n",
    "    def get_body_volume(self):\n",
    "        return self.body_length * self.body_width * self.body_height\n",
    "\n",
    "\n"
   ]
  },
  {
   "cell_type": "code",
   "execution_count": 4,
   "metadata": {
    "collapsed": true
   },
   "outputs": [],
   "source": [
    "class SpecMachine(CarBase):\n",
    "    def __init__(self, brand, photo_file_name, carrying, extra):\n",
    "        super().__init__(brand, photo_file_name, carrying)\n",
    "        self.extra = extra\n",
    "        self.car_type = \"spec_machine\"\n",
    "\n",
    "\n"
   ]
  },
  {
   "cell_type": "code",
   "execution_count": 36,
   "metadata": {},
   "outputs": [],
   "source": [
    "def get_car_list(csv_filename):\n",
    "    car_list = []\n",
    "    with open(csv_filename) as csv_fd:\n",
    "        reader = csv.reader(csv_fd, delimiter=';')\n",
    "        next(reader)  # пропускаем заголовок\n",
    "        for row in reader:\n",
    "            print(row)\n",
    "            if len(row)>0:\n",
    "                \n",
    "                root_ext = os.path.splitext(row[3]) \n",
    "                print(root_ext[1])\n",
    "                if (row[0]==\"car\"):\n",
    "                    car_list.append(Car(row[1], row[3], row[5], row[2]))\n",
    "                if (row[0]==\"truck\"):\n",
    "                    car_list.append(Truck(row[1], row[3], row[5], row[4]))\n",
    "                if (row[0]==\"spec_machine\"):\n",
    "                    car_list.append(SpecMachine(row[1], row[3], row[5],row[6]))\n",
    "    \n",
    "    return car_list"
   ]
  },
  {
   "cell_type": "code",
   "execution_count": 40,
   "metadata": {},
   "outputs": [
    {
     "name": "stdout",
     "output_type": "stream",
     "text": [
      "['car', 'Nissan xTtrail', '4', 'f1.jpeg', '', '2.5', '']\n",
      ".jpeg\n",
      "['truck', 'Man', '', 'f2.png', '8x3x2.5', '20', '']\n",
      ".png\n",
      "['truck', 'Man', '', 'f2.png', '', '20', '']\n",
      ".png\n",
      "['car', 'Mazda 6', '4', 'f3.jpeg', '', '2.5', '']\n",
      ".jpeg\n",
      "['', '', '', '']\n",
      "\n",
      "['spec_machine', 'Hitachi', '', 'f4', '', '1.2', 'Легкая техника для уборки снега']\n",
      "\n",
      "[]\n",
      "<class '__main__.Car'>\n",
      "<class '__main__.Truck'>\n",
      "<class '__main__.Truck'>\n",
      "<class '__main__.Car'>\n",
      "<class '__main__.SpecMachine'>\n"
     ]
    }
   ],
   "source": [
    "cars = get_car_list(csv_filename)\n",
    "for car in cars:\n",
    "    print(type(car))"
   ]
  },
  {
   "cell_type": "code",
   "execution_count": 41,
   "metadata": {},
   "outputs": [
    {
     "name": "stdout",
     "output_type": "stream",
     "text": [
      "4\n",
      "0\n"
     ]
    }
   ],
   "source": [
    "print(cars[0].passenger_seats_count)\n",
    "#4\n",
    "\n",
    "print(cars[1].get_body_volume())\n",
    "#60"
   ]
  },
  {
   "cell_type": "code",
   "execution_count": 25,
   "metadata": {},
   "outputs": [
    {
     "name": "stdout",
     "output_type": "stream",
     "text": [
      "['car', 'Nissan xTtrail', '4', 'f1.jpeg', '', '2.5', '']\n",
      "7\n",
      ".jpeg\n",
      "['truck', 'Man', '', 'f2.png', '8x3x2.5', '20', '']\n",
      "7\n",
      ".png\n",
      "['truck', 'Man', '', 'f2.png', '', '20', '']\n",
      "7\n",
      ".png\n",
      "['car', 'Mazda 6', '4', 'f3.jpeg', '', '2.5', '']\n",
      "7\n",
      ".jpeg\n",
      "['', '', '', '']\n",
      "4\n",
      "\n",
      "['spec_machine', 'Hitachi', '', 'f4', '', '1.2', 'Легкая техника для уборки снега']\n",
      "7\n",
      "\n",
      "[]\n",
      "0\n"
     ]
    },
    {
     "ename": "IndexError",
     "evalue": "list index out of range",
     "output_type": "error",
     "traceback": [
      "\u001b[0;31m---------------------------------------------------------------------------\u001b[0m",
      "\u001b[0;31mIndexError\u001b[0m                                Traceback (most recent call last)",
      "\u001b[0;32m<ipython-input-25-33e7415803f1>\u001b[0m in \u001b[0;36m<module>\u001b[0;34m()\u001b[0m\n\u001b[1;32m      9\u001b[0m         \u001b[0mprint\u001b[0m\u001b[0;34m(\u001b[0m\u001b[0mrow\u001b[0m\u001b[0;34m)\u001b[0m\u001b[0;34m\u001b[0m\u001b[0m\n\u001b[1;32m     10\u001b[0m         \u001b[0mprint\u001b[0m\u001b[0;34m(\u001b[0m\u001b[0mlen\u001b[0m\u001b[0;34m(\u001b[0m\u001b[0mrow\u001b[0m\u001b[0;34m)\u001b[0m\u001b[0;34m)\u001b[0m\u001b[0;34m\u001b[0m\u001b[0m\n\u001b[0;32m---> 11\u001b[0;31m         \u001b[0mroot_ext\u001b[0m \u001b[0;34m=\u001b[0m \u001b[0mos\u001b[0m\u001b[0;34m.\u001b[0m\u001b[0mpath\u001b[0m\u001b[0;34m.\u001b[0m\u001b[0msplitext\u001b[0m\u001b[0;34m(\u001b[0m\u001b[0mrow\u001b[0m\u001b[0;34m[\u001b[0m\u001b[0;36m3\u001b[0m\u001b[0;34m]\u001b[0m\u001b[0;34m)\u001b[0m\u001b[0;34m\u001b[0m\u001b[0m\n\u001b[0m\u001b[1;32m     12\u001b[0m         \u001b[0mprint\u001b[0m\u001b[0;34m(\u001b[0m\u001b[0mroot_ext\u001b[0m\u001b[0;34m[\u001b[0m\u001b[0;36m1\u001b[0m\u001b[0;34m]\u001b[0m\u001b[0;34m)\u001b[0m\u001b[0;34m\u001b[0m\u001b[0m\n\u001b[1;32m     13\u001b[0m \u001b[0;34m\u001b[0m\u001b[0m\n",
      "\u001b[0;31mIndexError\u001b[0m: list index out of range"
     ]
    }
   ],
   "source": [
    "import csv\n",
    "import os\n",
    "csv_filename = '/home/elena/PycharmProjects/Courser_DiveIntoPython/C1_week3_cars.csv'\n",
    "\n",
    "with open(csv_filename) as csv_fd:\n",
    "    reader = csv.reader(csv_fd, delimiter=';')\n",
    "    next(reader)  # пропускаем заголовок\n",
    "    for row in reader:\n",
    "        print(row)\n",
    "        print(len(row))\n",
    "        root_ext = os.path.splitext(row[3]) \n",
    "        print(root_ext[1])\n",
    "            "
   ]
  },
  {
   "cell_type": "code",
   "execution_count": null,
   "metadata": {
    "collapsed": true
   },
   "outputs": [],
   "source": []
  }
 ],
 "metadata": {
  "kernelspec": {
   "display_name": "Python 3",
   "language": "python",
   "name": "python3"
  },
  "language_info": {
   "codemirror_mode": {
    "name": "ipython",
    "version": 3
   },
   "file_extension": ".py",
   "mimetype": "text/x-python",
   "name": "python",
   "nbconvert_exporter": "python",
   "pygments_lexer": "ipython3",
   "version": "3.6.3"
  }
 },
 "nbformat": 4,
 "nbformat_minor": 2
}
